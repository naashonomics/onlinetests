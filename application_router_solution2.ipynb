{
 "cells": [
  {
   "cell_type": "code",
   "execution_count": 60,
   "metadata": {},
   "outputs": [],
   "source": [
    "my_mapping= {}\n",
    "def load_config(fname):\n",
    "    f=open(fname,\"r\")\n",
    "    for l in f:\n",
    "        if l != '\\n':\n",
    "            l=l.replace(\"\\n\",\"\").split(\"=\")\n",
    "            l1=l[0].split(\".\")\n",
    "            my_mapping[l[1]]=l1"
   ]
  },
  {
   "cell_type": "code",
   "execution_count": 61,
   "metadata": {},
   "outputs": [],
   "source": [
    "load_config(\"my.config\")"
   ]
  },
  {
   "cell_type": "code",
   "execution_count": 62,
   "metadata": {},
   "outputs": [
    {
     "data": {
      "text/plain": [
       "{'server1': ['customer1', 'us', 'ca', '*'],\n",
       " 'server3': ['customer2', 'us', '*', '*'],\n",
       " 'server4': ['customer2', '*', '*', '*'],\n",
       " 'server5': ['*', '*', '*', '*'],\n",
       " 'server2': ['customer1', 'us', 'ca', 'sjc']}"
      ]
     },
     "execution_count": 62,
     "metadata": {},
     "output_type": "execute_result"
    }
   ],
   "source": [
    "my_mapping"
   ]
  },
  {
   "cell_type": "code",
   "execution_count": 64,
   "metadata": {},
   "outputs": [],
   "source": [
    "my_keys=my_mapping.keys()"
   ]
  },
  {
   "cell_type": "code",
   "execution_count": 73,
   "metadata": {},
   "outputs": [
    {
     "data": {
      "text/plain": [
       "dict_keys(['server1', 'server3', 'server4', 'server5', 'server2'])"
      ]
     },
     "execution_count": 73,
     "metadata": {},
     "output_type": "execute_result"
    }
   ],
   "source": [
    "my_keys"
   ]
  },
  {
   "cell_type": "code",
   "execution_count": 112,
   "metadata": {},
   "outputs": [],
   "source": [
    "import operator\n",
    "def findRoute(search_string):\n",
    "    test=search_string.split(\".\")\n",
    "    server_score={}\n",
    "    my_stack=[]\n",
    "    for k in my_keys:\n",
    "        sut=k\n",
    "        if ((test[0] == my_mapping[sut][0] or my_mapping[sut][0] == \"*\" ) and (test[1] == my_mapping[sut][1] or  my_mapping[sut][1] == \"*\") and (test[2] == my_mapping[sut][2] or  my_mapping[sut][2] == \"*\") and (test[3] == my_mapping[sut][3] or  my_mapping[sut][3] == \"*\")):\n",
    "            my_stack.append(sut)\n",
    "            score=0\n",
    "            if (test[0] == my_mapping[sut][0]): score+=1 \n",
    "            if (test[1] == my_mapping[sut][1]): score+=1\n",
    "            if (test[2] == my_mapping[sut][2]): score+=1\n",
    "            if (test[3] == my_mapping[sut][3]): score+=1\n",
    "            if score !=0:\n",
    "                server_score[sut]=score\n",
    "    if not server_score:\n",
    "        return my_stack.pop()\n",
    "    else:\n",
    "        return max(server_score.items(), key=operator.itemgetter(1))[0]\n",
    "\n",
    "    \n",
    "        "
   ]
  },
  {
   "cell_type": "code",
   "execution_count": 113,
   "metadata": {},
   "outputs": [
    {
     "data": {
      "text/plain": [
       "'server1'"
      ]
     },
     "execution_count": 113,
     "metadata": {},
     "output_type": "execute_result"
    }
   ],
   "source": [
    "findRoute(\"customer1.us.ca.sfo\") "
   ]
  },
  {
   "cell_type": "code",
   "execution_count": 114,
   "metadata": {},
   "outputs": [
    {
     "data": {
      "text/plain": [
       "'server2'"
      ]
     },
     "execution_count": 114,
     "metadata": {},
     "output_type": "execute_result"
    }
   ],
   "source": [
    "findRoute(\"customer1.us.ca.sjc\") "
   ]
  },
  {
   "cell_type": "code",
   "execution_count": 115,
   "metadata": {},
   "outputs": [
    {
     "data": {
      "text/plain": [
       "'server3'"
      ]
     },
     "execution_count": 115,
     "metadata": {},
     "output_type": "execute_result"
    }
   ],
   "source": [
    "findRoute(\"customer2.us.tx.dfw\") "
   ]
  },
  {
   "cell_type": "code",
   "execution_count": 116,
   "metadata": {},
   "outputs": [
    {
     "data": {
      "text/plain": [
       "'server4'"
      ]
     },
     "execution_count": 116,
     "metadata": {},
     "output_type": "execute_result"
    }
   ],
   "source": [
    "findRoute(\"customer2.cn.tw.tai\") "
   ]
  },
  {
   "cell_type": "code",
   "execution_count": 117,
   "metadata": {},
   "outputs": [
    {
     "data": {
      "text/plain": [
       "'server5'"
      ]
     },
     "execution_count": 117,
     "metadata": {},
     "output_type": "execute_result"
    }
   ],
   "source": [
    "findRoute(\"customer10.us.ny.nyc\") "
   ]
  },
  {
   "cell_type": "code",
   "execution_count": null,
   "metadata": {},
   "outputs": [],
   "source": []
  }
 ],
 "metadata": {
  "kernelspec": {
   "display_name": "Anaconda 3",
   "language": "python",
   "name": "python3"
  },
  "language_info": {
   "codemirror_mode": {
    "name": "ipython",
    "version": 3
   },
   "file_extension": ".py",
   "mimetype": "text/x-python",
   "name": "python",
   "nbconvert_exporter": "python",
   "pygments_lexer": "ipython3",
   "version": "3.7.3"
  }
 },
 "nbformat": 4,
 "nbformat_minor": 2
}
