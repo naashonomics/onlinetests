{
 "cells": [
  {
   "cell_type": "code",
   "execution_count": 1,
   "metadata": {},
   "outputs": [],
   "source": [
    "class Solution:\n",
    "    \n",
    "    def numDistinctIslands(self, grid):\n",
    "        seen = set()\n",
    "        def explore(r, c, r0, c0):\n",
    "            if (0 <= r < len(grid) and 0 <= c < len(grid[0]) and\n",
    "                    grid[r][c] and (r, c) not in seen):\n",
    "                seen.add((r, c))\n",
    "                shape.add((r - r0, c - c0))\n",
    "                explore(r+1, c, r0, c0)\n",
    "                explore(r-1, c, r0, c0)\n",
    "                explore(r, c+1, r0, c0)\n",
    "                explore(r, c-1, r0, c0)\n",
    "                print(\"shape\", r, c, shape)\n",
    "\n",
    "        shapes = set()\n",
    "        for r in range(len(grid)):\n",
    "            for c in range(len(grid[0])):\n",
    "                shape = set()\n",
    "                explore(r, c, r, c)\n",
    "                if shape:\n",
    "                    shapes.add(frozenset(shape))\n",
    "        return len(shapes)"
   ]
  },
  {
   "cell_type": "code",
   "execution_count": 2,
   "metadata": {},
   "outputs": [],
   "source": [
    "s=Solution()"
   ]
  },
  {
   "cell_type": "code",
   "execution_count": 3,
   "metadata": {},
   "outputs": [
    {
     "name": "stdout",
     "output_type": "stream",
     "text": [
      "shape 0 1 {(0, 1), (1, 0), (0, 0), (1, 1)}\n",
      "shape 1 1 {(0, 1), (1, 0), (0, 0), (1, 1)}\n",
      "shape 1 0 {(0, 1), (1, 0), (0, 0), (1, 1)}\n",
      "shape 0 0 {(0, 1), (1, 0), (0, 0), (1, 1)}\n",
      "shape 2 4 {(0, 1), (1, 0), (0, 0), (1, 1)}\n",
      "shape 3 4 {(0, 1), (1, 0), (0, 0), (1, 1)}\n",
      "shape 3 3 {(0, 1), (1, 0), (0, 0), (1, 1)}\n",
      "shape 2 3 {(0, 1), (1, 0), (0, 0), (1, 1)}\n",
      "1\n"
     ]
    }
   ],
   "source": [
    "print(s.numDistinctIslands([[1,1,0,0,0],[1,1,0,0,0],[0,0,0,1,1],[0,0,0,1,1]]))"
   ]
  },
  {
   "cell_type": "code",
   "execution_count": null,
   "metadata": {},
   "outputs": [],
   "source": []
  }
 ],
 "metadata": {
  "kernelspec": {
   "display_name": "Anaconda 3",
   "language": "python",
   "name": "python3"
  },
  "language_info": {
   "codemirror_mode": {
    "name": "ipython",
    "version": 3
   },
   "file_extension": ".py",
   "mimetype": "text/x-python",
   "name": "python",
   "nbconvert_exporter": "python",
   "pygments_lexer": "ipython3",
   "version": "3.7.3"
  }
 },
 "nbformat": 4,
 "nbformat_minor": 2
}
