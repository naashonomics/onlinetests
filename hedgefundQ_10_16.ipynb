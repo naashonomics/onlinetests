{
 "cells": [
  {
   "cell_type": "code",
   "execution_count": 1,
   "metadata": {},
   "outputs": [
    {
     "name": "stdout",
     "output_type": "stream",
     "text": [
      "[('IBM', 1200.0), ('ORCL', 3410.0), ('APPL', 7140.0), ('CSCO', 12710.0)]\n"
     ]
    }
   ],
   "source": [
    "\n",
    "orders = [[ \"STOCK\", \"OrderID\", \"Price\", \"Quantity\"],\n",
    "          [ \"IBM\",  \"OID00\", 10   , 120],\n",
    "          [ \"APPL\", \"OID01\", 20.0 , 240],\n",
    "          [ \"ORCL\", \"OID02\", 30.5 ,  50],\n",
    "          [ \"CSCO\", \"OID04\", 20.5 , 310],\n",
    "          [ \"ORCL\", \"OID03\", 14.5 , 130],\n",
    "          [ \"CSCO\", \"OID05\", 20.5 , 310],\n",
    "          [ \"IBM\",  \"OID00\", 10   , 120],\n",
    "          [ \"ORCL\", \"OID02\", 30.5 ,  50],\n",
    "          [ \"APPL\", \"OID06\", 9.75 , 240],\n",
    "         ]\n",
    "\n",
    "res={}\n",
    "order_hash=[]\n",
    "for o in orders:\n",
    "    if \"STOCK\" in o[0] or o[1] in order_hash :\n",
    "        continue\n",
    "    else:\n",
    "        keys=res.keys()\n",
    "        order_hash.append(o[1])\n",
    "        if o[0] in keys : \n",
    "            value=float(o[2]) * float(o[3])\n",
    "            current_value=res[o[0]]\n",
    "            key=o[0]\n",
    "            res[key]=value + current_value\n",
    "        else:\n",
    "            value=float(o[2]) * float(o[3])\n",
    "            key=o[0]\n",
    "            res[key]=value\n",
    "print(sorted(res.items() ,key=lambda kv:(kv[1],kv[0]) ))"
   ]
  },
  {
   "cell_type": "code",
   "execution_count": null,
   "metadata": {},
   "outputs": [],
   "source": []
  }
 ],
 "metadata": {
  "kernelspec": {
   "display_name": "Anaconda 3",
   "language": "python",
   "name": "python3"
  },
  "language_info": {
   "codemirror_mode": {
    "name": "ipython",
    "version": 3
   },
   "file_extension": ".py",
   "mimetype": "text/x-python",
   "name": "python",
   "nbconvert_exporter": "python",
   "pygments_lexer": "ipython3",
   "version": "3.7.3"
  }
 },
 "nbformat": 4,
 "nbformat_minor": 2
}
