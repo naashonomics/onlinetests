{
 "cells": [
  {
   "cell_type": "code",
   "execution_count": 51,
   "metadata": {},
   "outputs": [],
   "source": [
    "from collections import defaultdict\n",
    "def longest2CharSubStr(s,k=2):\n",
    "        \n",
    "        n = len(s) \n",
    "        if k == 0 or n == 0:\n",
    "            return 0\n",
    "        il=0\n",
    "        ir=0\n",
    "        # sliding window left and right pointers\n",
    "        left, right = 0, 0\n",
    "        # hashmap character -> its rightmost position in sliding window\n",
    "        hashmap = defaultdict()\n",
    "\n",
    "        max_len = 1\n",
    "        \n",
    "        while right < n:\n",
    "            # add new character and move right pointer\n",
    "            hashmap[s[right]] = right\n",
    "            right += 1\n",
    "\n",
    "            # slidewindow contains 3 characters\n",
    "            if len(hashmap) == k + 1:\n",
    "                # delete the leftmost character\n",
    "                del_idx = min(hashmap.values())\n",
    "                del hashmap[s[del_idx]]\n",
    "                # move left pointer of the slidewindow\n",
    "                left = del_idx + 1\n",
    "            temp=right-left\n",
    "            if max_len < temp:\n",
    "                max_len=temp\n",
    "                il=left\n",
    "                ir=right\n",
    "        return s[il:ir]"
   ]
  },
  {
   "cell_type": "code",
   "execution_count": 52,
   "metadata": {},
   "outputs": [
    {
     "data": {
      "text/plain": [
       "'CCCCDDDD'"
      ]
     },
     "execution_count": 52,
     "metadata": {},
     "output_type": "execute_result"
    }
   ],
   "source": [
    "longest2CharSubStr(\"ABCBCCCCDDDDEF\")"
   ]
  },
  {
   "cell_type": "code",
   "execution_count": 53,
   "metadata": {},
   "outputs": [
    {
     "data": {
      "text/plain": [
       "'AABABAB'"
      ]
     },
     "execution_count": 53,
     "metadata": {},
     "output_type": "execute_result"
    }
   ],
   "source": [
    "longest2CharSubStr(\"ABAACCAABBBCCDADDAABABABCBB\") "
   ]
  },
  {
   "cell_type": "code",
   "execution_count": 48,
   "metadata": {},
   "outputs": [
    {
     "name": "stdout",
     "output_type": "stream",
     "text": [
      "CCCCDDDD\n"
     ]
    }
   ],
   "source": [
    "A=\"ABCBCCCCDDDDEF\"\n",
    "print(A[4:12])"
   ]
  },
  {
   "cell_type": "code",
   "execution_count": null,
   "metadata": {},
   "outputs": [],
   "source": [
    "\"\"\"\n",
    "What’s the runtime and space complexity of your solution\n",
    "Time Complexity : O(Nk)   in the worst case of N distinct characters in the string. \n",
    "k=2 \n",
    "Space complexity :  O(k) since additional space is used only for a hashmap with at most k + 1 elements\n",
    "k=2 \n",
    "\"\"\"\n",
    "\"\"\"\n",
    "How can you optimize your solution further?\n",
    "TC: O(nk) and SC:O(k) \n",
    "is the optimal  we can achive either with sliding window + Hashmap. or Sliding Window + Ordered Dictionary. \n",
    "\"\"\"\n",
    "\"\"\"\n",
    "What test cases you’d write against your function?\n",
    "1>  Empty String\n",
    "2>  lowercase chars \n",
    "3>  Upepr case chars \n",
    "4>  Combination of lower and upper case chars \n",
    "\"\"\""
   ]
  }
 ],
 "metadata": {
  "kernelspec": {
   "display_name": "Anaconda 3",
   "language": "python",
   "name": "python3"
  },
  "language_info": {
   "codemirror_mode": {
    "name": "ipython",
    "version": 3
   },
   "file_extension": ".py",
   "mimetype": "text/x-python",
   "name": "python",
   "nbconvert_exporter": "python",
   "pygments_lexer": "ipython3",
   "version": "3.7.3"
  }
 },
 "nbformat": 4,
 "nbformat_minor": 2
}
